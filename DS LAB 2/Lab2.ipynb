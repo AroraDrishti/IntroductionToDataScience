{
 "cells": [
  {
   "cell_type": "markdown",
   "id": "27f15ad5",
   "metadata": {},
   "source": [
    "Q1)\n",
    "Write a python program to print date, time for today and now."
   ]
  },
  {
   "cell_type": "code",
   "execution_count": 1,
   "id": "d3cb846e",
   "metadata": {},
   "outputs": [
    {
     "name": "stdout",
     "output_type": "stream",
     "text": [
      "2022-01-24 21:10:03.404980\n",
      "2022-01-24 21:10:03.404979\n"
     ]
    }
   ],
   "source": [
    "from datetime import datetime\n",
    "\n",
    "today = datetime.today()\n",
    "print(today)\n",
    "\n",
    "now = datetime.now()\n",
    "print(now)"
   ]
  },
  {
   "cell_type": "markdown",
   "id": "b0727d14",
   "metadata": {},
   "source": [
    "Q2)\n",
    "Write a python program to add some days to your present date and print the date added."
   ]
  },
  {
   "cell_type": "code",
   "execution_count": 2,
   "id": "0a815efc",
   "metadata": {},
   "outputs": [
    {
     "name": "stdout",
     "output_type": "stream",
     "text": [
      "Start date: 2022-01-24\n",
      "Enter number of days to be added: 5\n",
      "End date: 2022-01-29\n"
     ]
    }
   ],
   "source": [
    "from datetime import timedelta\n",
    "from datetime import date\n",
    "\n",
    "today = date.today()\n",
    "print(\"Start date: \" + str(today))\n",
    "adddays = int(input(\"Enter number of days to be added: \"))\n",
    "new = today + timedelta(days = adddays)\n",
    "print(\"End date: \" + str(new))"
   ]
  },
  {
   "cell_type": "markdown",
   "id": "cbe020dd",
   "metadata": {},
   "source": [
    "Q3)\n",
    "Write a python program to print date, time using date and time functions. "
   ]
  },
  {
   "cell_type": "code",
   "execution_count": 3,
   "id": "505cd3cd",
   "metadata": {},
   "outputs": [
    {
     "name": "stdout",
     "output_type": "stream",
     "text": [
      "Date: 2022-01-17\n",
      "Time: 17:55:55\n"
     ]
    }
   ],
   "source": [
    "from datetime import date, time \n",
    "\n",
    "date1 = date(2022, 1 ,17)\n",
    "print(\"Date: \" + str(date1))\n",
    "time1 = time(17, 55, 55)\n",
    "print(\"Time: \" + str(time1))"
   ]
  },
  {
   "cell_type": "markdown",
   "id": "a2197c39",
   "metadata": {},
   "source": [
    "Q4) \n",
    "Write a python program which accepts the radius of a circle from the user and computes the area (use math module)."
   ]
  },
  {
   "cell_type": "code",
   "execution_count": 4,
   "id": "3e148fd3",
   "metadata": {},
   "outputs": [
    {
     "name": "stdout",
     "output_type": "stream",
     "text": [
      "Enter radius: 7\n",
      "Area:153.93804002589985\n"
     ]
    }
   ],
   "source": [
    "from math import pi\n",
    "\n",
    "rad = float(input(\"Enter radius: \"))\n",
    "area = pi * rad**2\n",
    "print(\"Area:\" + str(area))"
   ]
  }
 ],
 "metadata": {
  "kernelspec": {
   "display_name": "Python 3",
   "language": "python",
   "name": "python3"
  },
  "language_info": {
   "codemirror_mode": {
    "name": "ipython",
    "version": 3
   },
   "file_extension": ".py",
   "mimetype": "text/x-python",
   "name": "python",
   "nbconvert_exporter": "python",
   "pygments_lexer": "ipython3",
   "version": "3.8.8"
  }
 },
 "nbformat": 4,
 "nbformat_minor": 5
}
