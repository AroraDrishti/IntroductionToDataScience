{
 "cells": [
  {
   "cell_type": "markdown",
   "id": "75f8f176",
   "metadata": {},
   "source": [
    "Linear Regression in car_data.csv"
   ]
  },
  {
   "cell_type": "code",
   "execution_count": 107,
   "id": "d1d987e1",
   "metadata": {},
   "outputs": [],
   "source": [
    "import pandas as pd\n",
    "import numpy as np\n",
    "import seaborn as sns\n",
    "import matplotlib.pyplot as plt"
   ]
  },
  {
   "cell_type": "markdown",
   "id": "321d8e48",
   "metadata": {},
   "source": [
    "Importing dataset"
   ]
  },
  {
   "cell_type": "code",
   "execution_count": 108,
   "id": "9f0ba6e3",
   "metadata": {},
   "outputs": [],
   "source": [
    "df=pd.read_csv('car_data.csv')"
   ]
  },
  {
   "cell_type": "code",
   "execution_count": 109,
   "id": "25d616dc",
   "metadata": {},
   "outputs": [
    {
     "data": {
      "text/plain": [
       "(301, 9)"
      ]
     },
     "execution_count": 109,
     "metadata": {},
     "output_type": "execute_result"
    }
   ],
   "source": [
    "df.shape"
   ]
  },
  {
   "cell_type": "code",
   "execution_count": 110,
   "id": "5cb35ab5",
   "metadata": {},
   "outputs": [
    {
     "data": {
      "text/html": [
       "<div>\n",
       "<style scoped>\n",
       "    .dataframe tbody tr th:only-of-type {\n",
       "        vertical-align: middle;\n",
       "    }\n",
       "\n",
       "    .dataframe tbody tr th {\n",
       "        vertical-align: top;\n",
       "    }\n",
       "\n",
       "    .dataframe thead th {\n",
       "        text-align: right;\n",
       "    }\n",
       "</style>\n",
       "<table border=\"1\" class=\"dataframe\">\n",
       "  <thead>\n",
       "    <tr style=\"text-align: right;\">\n",
       "      <th></th>\n",
       "      <th>Car_Name</th>\n",
       "      <th>Year</th>\n",
       "      <th>Selling_Price</th>\n",
       "      <th>Present_Price</th>\n",
       "      <th>Kms_Driven</th>\n",
       "      <th>Fuel_Type</th>\n",
       "      <th>Seller_Type</th>\n",
       "      <th>Transmission</th>\n",
       "      <th>Owner</th>\n",
       "    </tr>\n",
       "  </thead>\n",
       "  <tbody>\n",
       "    <tr>\n",
       "      <th>0</th>\n",
       "      <td>ritz</td>\n",
       "      <td>2014</td>\n",
       "      <td>3.35</td>\n",
       "      <td>5.59</td>\n",
       "      <td>27000</td>\n",
       "      <td>Petrol</td>\n",
       "      <td>Dealer</td>\n",
       "      <td>Manual</td>\n",
       "      <td>0</td>\n",
       "    </tr>\n",
       "    <tr>\n",
       "      <th>1</th>\n",
       "      <td>sx4</td>\n",
       "      <td>2013</td>\n",
       "      <td>4.75</td>\n",
       "      <td>9.54</td>\n",
       "      <td>43000</td>\n",
       "      <td>Diesel</td>\n",
       "      <td>Dealer</td>\n",
       "      <td>Manual</td>\n",
       "      <td>0</td>\n",
       "    </tr>\n",
       "    <tr>\n",
       "      <th>2</th>\n",
       "      <td>ciaz</td>\n",
       "      <td>2017</td>\n",
       "      <td>7.25</td>\n",
       "      <td>9.85</td>\n",
       "      <td>6900</td>\n",
       "      <td>Petrol</td>\n",
       "      <td>Dealer</td>\n",
       "      <td>Manual</td>\n",
       "      <td>0</td>\n",
       "    </tr>\n",
       "    <tr>\n",
       "      <th>3</th>\n",
       "      <td>wagon r</td>\n",
       "      <td>2011</td>\n",
       "      <td>2.85</td>\n",
       "      <td>4.15</td>\n",
       "      <td>5200</td>\n",
       "      <td>Petrol</td>\n",
       "      <td>Dealer</td>\n",
       "      <td>Manual</td>\n",
       "      <td>0</td>\n",
       "    </tr>\n",
       "    <tr>\n",
       "      <th>4</th>\n",
       "      <td>swift</td>\n",
       "      <td>2014</td>\n",
       "      <td>4.60</td>\n",
       "      <td>6.87</td>\n",
       "      <td>42450</td>\n",
       "      <td>Diesel</td>\n",
       "      <td>Dealer</td>\n",
       "      <td>Manual</td>\n",
       "      <td>0</td>\n",
       "    </tr>\n",
       "  </tbody>\n",
       "</table>\n",
       "</div>"
      ],
      "text/plain": [
       "  Car_Name  Year  Selling_Price  Present_Price  Kms_Driven Fuel_Type  \\\n",
       "0     ritz  2014           3.35           5.59       27000    Petrol   \n",
       "1      sx4  2013           4.75           9.54       43000    Diesel   \n",
       "2     ciaz  2017           7.25           9.85        6900    Petrol   \n",
       "3  wagon r  2011           2.85           4.15        5200    Petrol   \n",
       "4    swift  2014           4.60           6.87       42450    Diesel   \n",
       "\n",
       "  Seller_Type Transmission  Owner  \n",
       "0      Dealer       Manual      0  \n",
       "1      Dealer       Manual      0  \n",
       "2      Dealer       Manual      0  \n",
       "3      Dealer       Manual      0  \n",
       "4      Dealer       Manual      0  "
      ]
     },
     "execution_count": 110,
     "metadata": {},
     "output_type": "execute_result"
    }
   ],
   "source": [
    "df.head()"
   ]
  },
  {
   "cell_type": "code",
   "execution_count": 111,
   "id": "404ffbf0",
   "metadata": {},
   "outputs": [
    {
     "name": "stdout",
     "output_type": "stream",
     "text": [
      "<class 'pandas.core.frame.DataFrame'>\n",
      "RangeIndex: 301 entries, 0 to 300\n",
      "Data columns (total 9 columns):\n",
      " #   Column         Non-Null Count  Dtype  \n",
      "---  ------         --------------  -----  \n",
      " 0   Car_Name       301 non-null    object \n",
      " 1   Year           301 non-null    int64  \n",
      " 2   Selling_Price  301 non-null    float64\n",
      " 3   Present_Price  301 non-null    float64\n",
      " 4   Kms_Driven     301 non-null    int64  \n",
      " 5   Fuel_Type      301 non-null    object \n",
      " 6   Seller_Type    301 non-null    object \n",
      " 7   Transmission   301 non-null    object \n",
      " 8   Owner          301 non-null    int64  \n",
      "dtypes: float64(2), int64(3), object(4)\n",
      "memory usage: 21.3+ KB\n"
     ]
    }
   ],
   "source": [
    "df.info()"
   ]
  },
  {
   "cell_type": "code",
   "execution_count": 112,
   "id": "cf0f2b19",
   "metadata": {},
   "outputs": [
    {
     "data": {
      "text/html": [
       "<div>\n",
       "<style scoped>\n",
       "    .dataframe tbody tr th:only-of-type {\n",
       "        vertical-align: middle;\n",
       "    }\n",
       "\n",
       "    .dataframe tbody tr th {\n",
       "        vertical-align: top;\n",
       "    }\n",
       "\n",
       "    .dataframe thead th {\n",
       "        text-align: right;\n",
       "    }\n",
       "</style>\n",
       "<table border=\"1\" class=\"dataframe\">\n",
       "  <thead>\n",
       "    <tr style=\"text-align: right;\">\n",
       "      <th></th>\n",
       "      <th>Year</th>\n",
       "      <th>Selling_Price</th>\n",
       "      <th>Present_Price</th>\n",
       "      <th>Kms_Driven</th>\n",
       "      <th>Owner</th>\n",
       "    </tr>\n",
       "  </thead>\n",
       "  <tbody>\n",
       "    <tr>\n",
       "      <th>count</th>\n",
       "      <td>301.000000</td>\n",
       "      <td>301.000000</td>\n",
       "      <td>301.000000</td>\n",
       "      <td>301.000000</td>\n",
       "      <td>301.000000</td>\n",
       "    </tr>\n",
       "    <tr>\n",
       "      <th>mean</th>\n",
       "      <td>2013.627907</td>\n",
       "      <td>4.661296</td>\n",
       "      <td>7.628472</td>\n",
       "      <td>36947.205980</td>\n",
       "      <td>0.043189</td>\n",
       "    </tr>\n",
       "    <tr>\n",
       "      <th>std</th>\n",
       "      <td>2.891554</td>\n",
       "      <td>5.082812</td>\n",
       "      <td>8.644115</td>\n",
       "      <td>38886.883882</td>\n",
       "      <td>0.247915</td>\n",
       "    </tr>\n",
       "    <tr>\n",
       "      <th>min</th>\n",
       "      <td>2003.000000</td>\n",
       "      <td>0.100000</td>\n",
       "      <td>0.320000</td>\n",
       "      <td>500.000000</td>\n",
       "      <td>0.000000</td>\n",
       "    </tr>\n",
       "    <tr>\n",
       "      <th>25%</th>\n",
       "      <td>2012.000000</td>\n",
       "      <td>0.900000</td>\n",
       "      <td>1.200000</td>\n",
       "      <td>15000.000000</td>\n",
       "      <td>0.000000</td>\n",
       "    </tr>\n",
       "    <tr>\n",
       "      <th>50%</th>\n",
       "      <td>2014.000000</td>\n",
       "      <td>3.600000</td>\n",
       "      <td>6.400000</td>\n",
       "      <td>32000.000000</td>\n",
       "      <td>0.000000</td>\n",
       "    </tr>\n",
       "    <tr>\n",
       "      <th>75%</th>\n",
       "      <td>2016.000000</td>\n",
       "      <td>6.000000</td>\n",
       "      <td>9.900000</td>\n",
       "      <td>48767.000000</td>\n",
       "      <td>0.000000</td>\n",
       "    </tr>\n",
       "    <tr>\n",
       "      <th>max</th>\n",
       "      <td>2018.000000</td>\n",
       "      <td>35.000000</td>\n",
       "      <td>92.600000</td>\n",
       "      <td>500000.000000</td>\n",
       "      <td>3.000000</td>\n",
       "    </tr>\n",
       "  </tbody>\n",
       "</table>\n",
       "</div>"
      ],
      "text/plain": [
       "              Year  Selling_Price  Present_Price     Kms_Driven       Owner\n",
       "count   301.000000     301.000000     301.000000     301.000000  301.000000\n",
       "mean   2013.627907       4.661296       7.628472   36947.205980    0.043189\n",
       "std       2.891554       5.082812       8.644115   38886.883882    0.247915\n",
       "min    2003.000000       0.100000       0.320000     500.000000    0.000000\n",
       "25%    2012.000000       0.900000       1.200000   15000.000000    0.000000\n",
       "50%    2014.000000       3.600000       6.400000   32000.000000    0.000000\n",
       "75%    2016.000000       6.000000       9.900000   48767.000000    0.000000\n",
       "max    2018.000000      35.000000      92.600000  500000.000000    3.000000"
      ]
     },
     "execution_count": 112,
     "metadata": {},
     "output_type": "execute_result"
    }
   ],
   "source": [
    "df.describe()"
   ]
  },
  {
   "cell_type": "code",
   "execution_count": 113,
   "id": "e8e00fec",
   "metadata": {},
   "outputs": [
    {
     "data": {
      "text/html": [
       "<div>\n",
       "<style scoped>\n",
       "    .dataframe tbody tr th:only-of-type {\n",
       "        vertical-align: middle;\n",
       "    }\n",
       "\n",
       "    .dataframe tbody tr th {\n",
       "        vertical-align: top;\n",
       "    }\n",
       "\n",
       "    .dataframe thead th {\n",
       "        text-align: right;\n",
       "    }\n",
       "</style>\n",
       "<table border=\"1\" class=\"dataframe\">\n",
       "  <thead>\n",
       "    <tr style=\"text-align: right;\">\n",
       "      <th></th>\n",
       "      <th>Year</th>\n",
       "      <th>Selling_Price</th>\n",
       "      <th>Present_Price</th>\n",
       "      <th>Kms_Driven</th>\n",
       "      <th>Owner</th>\n",
       "    </tr>\n",
       "  </thead>\n",
       "  <tbody>\n",
       "    <tr>\n",
       "      <th>Year</th>\n",
       "      <td>1.000000</td>\n",
       "      <td>0.236141</td>\n",
       "      <td>-0.047584</td>\n",
       "      <td>-0.524342</td>\n",
       "      <td>-0.182104</td>\n",
       "    </tr>\n",
       "    <tr>\n",
       "      <th>Selling_Price</th>\n",
       "      <td>0.236141</td>\n",
       "      <td>1.000000</td>\n",
       "      <td>0.878983</td>\n",
       "      <td>0.029187</td>\n",
       "      <td>-0.088344</td>\n",
       "    </tr>\n",
       "    <tr>\n",
       "      <th>Present_Price</th>\n",
       "      <td>-0.047584</td>\n",
       "      <td>0.878983</td>\n",
       "      <td>1.000000</td>\n",
       "      <td>0.203647</td>\n",
       "      <td>0.008057</td>\n",
       "    </tr>\n",
       "    <tr>\n",
       "      <th>Kms_Driven</th>\n",
       "      <td>-0.524342</td>\n",
       "      <td>0.029187</td>\n",
       "      <td>0.203647</td>\n",
       "      <td>1.000000</td>\n",
       "      <td>0.089216</td>\n",
       "    </tr>\n",
       "    <tr>\n",
       "      <th>Owner</th>\n",
       "      <td>-0.182104</td>\n",
       "      <td>-0.088344</td>\n",
       "      <td>0.008057</td>\n",
       "      <td>0.089216</td>\n",
       "      <td>1.000000</td>\n",
       "    </tr>\n",
       "  </tbody>\n",
       "</table>\n",
       "</div>"
      ],
      "text/plain": [
       "                   Year  Selling_Price  Present_Price  Kms_Driven     Owner\n",
       "Year           1.000000       0.236141      -0.047584   -0.524342 -0.182104\n",
       "Selling_Price  0.236141       1.000000       0.878983    0.029187 -0.088344\n",
       "Present_Price -0.047584       0.878983       1.000000    0.203647  0.008057\n",
       "Kms_Driven    -0.524342       0.029187       0.203647    1.000000  0.089216\n",
       "Owner         -0.182104      -0.088344       0.008057    0.089216  1.000000"
      ]
     },
     "execution_count": 113,
     "metadata": {},
     "output_type": "execute_result"
    }
   ],
   "source": [
    "df.corr()"
   ]
  },
  {
   "cell_type": "markdown",
   "id": "93ea9371",
   "metadata": {},
   "source": [
    "Scatter Plot"
   ]
  },
  {
   "cell_type": "code",
   "execution_count": 114,
   "id": "75832ef7",
   "metadata": {},
   "outputs": [
    {
     "data": {
      "image/png": "[encoded data removed]",
      "text/plain": [
       "<Figure size 432x288 with 1 Axes>"
      ]
     },
     "metadata": {
      "needs_background": "light"
     },
     "output_type": "display_data"
    }
   ],
   "source": [
    "plt.scatter(df['Selling_Price'], df['Present_Price'], alpha=0.7)\n",
    "plt.title('Scatter plot of Selling Price vs Present price')\n",
    "plt.xlabel('Selling Price')\n",
    "plt.ylabel('Present price')\n",
    "plt.show()"
   ]
  },
  {
   "cell_type": "markdown",
   "id": "5fe9a8f8",
   "metadata": {},
   "source": [
    "Distribution Plot"
   ]
  },
  {
   "cell_type": "code",
   "execution_count": 115,
   "id": "78dca196",
   "metadata": {},
   "outputs": [
    {
     "data": {
      "text/plain": [
       "Text(0.5, 1.0, 'Distribution Plot')"
      ]
     },
     "execution_count": 115,
     "metadata": {},
     "output_type": "execute_result"
    },
    {
     "data": {
      "image/png": "[encoded data removed]",
      "text/plain": [
       "<Figure size 360x360 with 1 Axes>"
      ]
     },
     "metadata": {
      "needs_background": "light"
     },
     "output_type": "display_data"
    }
   ],
   "source": [
    "sns.displot(df, x=df['Selling_Price'],kind=\"kde\")\n",
    "plt.title('Distribution Plot')"
   ]
  },
  {
   "cell_type": "code",
   "execution_count": 116,
   "id": "3c47af94",
   "metadata": {},
   "outputs": [
    {
     "data": {
      "text/plain": [
       "Text(0.5, 1.0, 'Distribution Plot')"
      ]
     },
     "execution_count": 116,
     "metadata": {},
     "output_type": "execute_result"
    },
    {
     "data": {
      "image/png": "[encoded data removed]",
      "text/plain": [
       "<Figure size 360x360 with 1 Axes>"
      ]
     },
     "metadata": {
      "needs_background": "light"
     },
     "output_type": "display_data"
    }
   ],
   "source": [
    "sns.displot(df, x=df['Present_Price'],kind=\"kde\")\n",
    "plt.title('Distribution Plot')"
   ]
  },
  {
   "cell_type": "code",
   "execution_count": 117,
   "id": "f5425a5d",
   "metadata": {},
   "outputs": [],
   "source": [
    "X = df.iloc[:,3:4].values\n",
    "Y = df.iloc[:,4].values"
   ]
  },
  {
   "cell_type": "code",
   "execution_count": 118,
   "id": "7235e2db",
   "metadata": {},
   "outputs": [
    {
     "data": {
      "text/plain": [
       "numpy.ndarray"
      ]
     },
     "execution_count": 118,
     "metadata": {},
     "output_type": "execute_result"
    }
   ],
   "source": [
    "type(X)"
   ]
  },
  {
   "cell_type": "code",
   "execution_count": 119,
   "id": "355beadb",
   "metadata": {},
   "outputs": [
    {
     "data": {
      "text/plain": [
       "numpy.ndarray"
      ]
     },
     "execution_count": 119,
     "metadata": {},
     "output_type": "execute_result"
    }
   ],
   "source": [
    "type(Y)"
   ]
  },
  {
   "cell_type": "code",
   "execution_count": 120,
   "id": "9dc98f99",
   "metadata": {},
   "outputs": [
    {
     "data": {
      "text/plain": [
       "(301, 1)"
      ]
     },
     "execution_count": 120,
     "metadata": {},
     "output_type": "execute_result"
    }
   ],
   "source": [
    "X.shape"
   ]
  },
  {
   "cell_type": "code",
   "execution_count": 121,
   "id": "9403d974",
   "metadata": {},
   "outputs": [
    {
     "data": {
      "text/plain": [
       "(301,)"
      ]
     },
     "execution_count": 121,
     "metadata": {},
     "output_type": "execute_result"
    }
   ],
   "source": [
    "Y.shape"
   ]
  },
  {
   "cell_type": "code",
   "execution_count": 122,
   "id": "3b0dd1ce",
   "metadata": {},
   "outputs": [
    {
     "data": {
      "text/plain": [
       "array([[ 5.59 ],\n",
       "       [ 9.54 ],\n",
       "       [ 9.85 ],\n",
       "       [ 4.15 ],\n",
       "       [ 6.87 ],\n",
       "       [ 9.83 ],\n",
       "       [ 8.12 ],\n",
       "       [ 8.61 ],\n",
       "       [ 8.89 ],\n",
       "       [ 8.92 ],\n",
       "       [ 3.6  ],\n",
       "       [10.38 ],\n",
       "       [ 9.94 ],\n",
       "       [ 7.71 ],\n",
       "       [ 7.21 ],\n",
       "       [10.79 ],\n",
       "       [10.79 ],\n",
       "       [10.79 ],\n",
       "       [ 5.09 ],\n",
       "       [ 7.98 ],\n",
       "       [ 3.95 ],\n",
       "       [ 5.71 ],\n",
       "       [ 8.01 ],\n",
       "       [ 3.46 ],\n",
       "       [ 4.41 ],\n",
       "       [ 4.99 ],\n",
       "       [ 5.87 ],\n",
       "       [ 6.49 ],\n",
       "       [ 3.95 ],\n",
       "       [10.38 ],\n",
       "       [ 5.98 ],\n",
       "       [ 4.89 ],\n",
       "       [ 7.49 ],\n",
       "       [ 9.95 ],\n",
       "       [ 8.06 ],\n",
       "       [ 7.74 ],\n",
       "       [ 7.2  ],\n",
       "       [ 2.28 ],\n",
       "       [ 3.76 ],\n",
       "       [ 7.98 ],\n",
       "       [ 7.87 ],\n",
       "       [ 3.98 ],\n",
       "       [ 7.15 ],\n",
       "       [ 8.06 ],\n",
       "       [ 2.69 ],\n",
       "       [12.04 ],\n",
       "       [ 4.89 ],\n",
       "       [ 4.15 ],\n",
       "       [ 7.71 ],\n",
       "       [ 9.29 ],\n",
       "       [30.61 ],\n",
       "       [30.61 ],\n",
       "       [19.77 ],\n",
       "       [30.61 ],\n",
       "       [10.21 ],\n",
       "       [15.04 ],\n",
       "       [ 7.27 ],\n",
       "       [18.54 ],\n",
       "       [ 6.8  ],\n",
       "       [35.96 ],\n",
       "       [18.61 ],\n",
       "       [ 7.7  ],\n",
       "       [35.96 ],\n",
       "       [35.96 ],\n",
       "       [36.23 ],\n",
       "       [ 6.95 ],\n",
       "       [23.15 ],\n",
       "       [20.45 ],\n",
       "       [13.74 ],\n",
       "       [20.91 ],\n",
       "       [ 6.76 ],\n",
       "       [12.48 ],\n",
       "       [18.61 ],\n",
       "       [ 5.71 ],\n",
       "       [ 8.93 ],\n",
       "       [ 6.8  ],\n",
       "       [14.68 ],\n",
       "       [12.35 ],\n",
       "       [22.83 ],\n",
       "       [30.61 ],\n",
       "       [14.89 ],\n",
       "       [ 7.85 ],\n",
       "       [25.39 ],\n",
       "       [13.46 ],\n",
       "       [13.46 ],\n",
       "       [23.73 ],\n",
       "       [92.6  ],\n",
       "       [13.74 ],\n",
       "       [ 6.05 ],\n",
       "       [ 6.76 ],\n",
       "       [18.61 ],\n",
       "       [16.09 ],\n",
       "       [13.7  ],\n",
       "       [30.61 ],\n",
       "       [22.78 ],\n",
       "       [18.61 ],\n",
       "       [25.39 ],\n",
       "       [18.64 ],\n",
       "       [18.61 ],\n",
       "       [20.45 ],\n",
       "       [ 1.9  ],\n",
       "       [ 1.82 ],\n",
       "       [ 1.78 ],\n",
       "       [ 1.6  ],\n",
       "       [ 1.47 ],\n",
       "       [ 2.37 ],\n",
       "       [ 3.45 ],\n",
       "       [ 1.5  ],\n",
       "       [ 1.5  ],\n",
       "       [ 1.47 ],\n",
       "       [ 1.78 ],\n",
       "       [ 1.5  ],\n",
       "       [ 2.4  ],\n",
       "       [ 1.4  ],\n",
       "       [ 1.47 ],\n",
       "       [ 1.47 ],\n",
       "       [ 1.47 ],\n",
       "       [ 1.9  ],\n",
       "       [ 1.47 ],\n",
       "       [ 1.9  ],\n",
       "       [ 1.26 ],\n",
       "       [ 1.5  ],\n",
       "       [ 1.17 ],\n",
       "       [ 1.47 ],\n",
       "       [ 1.75 ],\n",
       "       [ 1.75 ],\n",
       "       [ 0.95 ],\n",
       "       [ 0.8  ],\n",
       "       [ 0.87 ],\n",
       "       [ 0.84 ],\n",
       "       [ 0.87 ],\n",
       "       [ 0.82 ],\n",
       "       [ 0.95 ],\n",
       "       [ 0.95 ],\n",
       "       [ 0.81 ],\n",
       "       [ 0.74 ],\n",
       "       [ 1.2  ],\n",
       "       [ 0.787],\n",
       "       [ 0.87 ],\n",
       "       [ 0.95 ],\n",
       "       [ 1.2  ],\n",
       "       [ 0.8  ],\n",
       "       [ 0.84 ],\n",
       "       [ 0.84 ],\n",
       "       [ 0.99 ],\n",
       "       [ 0.81 ],\n",
       "       [ 0.787],\n",
       "       [ 0.84 ],\n",
       "       [ 0.94 ],\n",
       "       [ 0.94 ],\n",
       "       [ 0.826],\n",
       "       [ 0.55 ],\n",
       "       [ 0.99 ],\n",
       "       [ 0.99 ],\n",
       "       [ 0.88 ],\n",
       "       [ 0.51 ],\n",
       "       [ 0.52 ],\n",
       "       [ 0.84 ],\n",
       "       [ 0.54 ],\n",
       "       [ 0.51 ],\n",
       "       [ 0.95 ],\n",
       "       [ 0.826],\n",
       "       [ 0.99 ],\n",
       "       [ 0.95 ],\n",
       "       [ 0.54 ],\n",
       "       [ 0.54 ],\n",
       "       [ 0.55 ],\n",
       "       [ 0.81 ],\n",
       "       [ 0.73 ],\n",
       "       [ 0.54 ],\n",
       "       [ 0.83 ],\n",
       "       [ 0.55 ],\n",
       "       [ 0.64 ],\n",
       "       [ 0.51 ],\n",
       "       [ 0.72 ],\n",
       "       [ 0.787],\n",
       "       [ 1.05 ],\n",
       "       [ 0.57 ],\n",
       "       [ 0.52 ],\n",
       "       [ 1.05 ],\n",
       "       [ 0.51 ],\n",
       "       [ 0.48 ],\n",
       "       [ 0.58 ],\n",
       "       [ 0.47 ],\n",
       "       [ 0.75 ],\n",
       "       [ 0.58 ],\n",
       "       [ 0.52 ],\n",
       "       [ 0.51 ],\n",
       "       [ 0.57 ],\n",
       "       [ 0.57 ],\n",
       "       [ 0.75 ],\n",
       "       [ 0.57 ],\n",
       "       [ 0.75 ],\n",
       "       [ 0.65 ],\n",
       "       [ 0.787],\n",
       "       [ 0.32 ],\n",
       "       [ 0.52 ],\n",
       "       [ 0.51 ],\n",
       "       [ 0.57 ],\n",
       "       [ 0.58 ],\n",
       "       [ 0.75 ],\n",
       "       [ 6.79 ],\n",
       "       [ 5.7  ],\n",
       "       [ 4.6  ],\n",
       "       [ 4.43 ],\n",
       "       [ 5.7  ],\n",
       "       [ 7.13 ],\n",
       "       [ 5.7  ],\n",
       "       [ 8.1  ],\n",
       "       [ 5.7  ],\n",
       "       [ 4.6  ],\n",
       "       [14.79 ],\n",
       "       [13.6  ],\n",
       "       [ 6.79 ],\n",
       "       [ 5.7  ],\n",
       "       [ 9.4  ],\n",
       "       [ 4.43 ],\n",
       "       [ 4.43 ],\n",
       "       [ 9.4  ],\n",
       "       [ 9.4  ],\n",
       "       [ 4.43 ],\n",
       "       [ 6.79 ],\n",
       "       [ 7.6  ],\n",
       "       [ 9.4  ],\n",
       "       [ 9.4  ],\n",
       "       [ 4.6  ],\n",
       "       [ 5.7  ],\n",
       "       [ 4.43 ],\n",
       "       [ 9.4  ],\n",
       "       [ 6.79 ],\n",
       "       [ 9.4  ],\n",
       "       [ 9.4  ],\n",
       "       [14.79 ],\n",
       "       [ 5.7  ],\n",
       "       [ 5.7  ],\n",
       "       [ 9.4  ],\n",
       "       [ 4.43 ],\n",
       "       [13.6  ],\n",
       "       [ 9.4  ],\n",
       "       [ 4.43 ],\n",
       "       [ 9.4  ],\n",
       "       [ 7.13 ],\n",
       "       [ 7.13 ],\n",
       "       [ 7.6  ],\n",
       "       [ 9.4  ],\n",
       "       [ 9.4  ],\n",
       "       [ 6.79 ],\n",
       "       [ 9.4  ],\n",
       "       [ 4.6  ],\n",
       "       [ 7.6  ],\n",
       "       [13.6  ],\n",
       "       [ 9.9  ],\n",
       "       [ 6.82 ],\n",
       "       [ 9.9  ],\n",
       "       [ 9.9  ],\n",
       "       [ 5.35 ],\n",
       "       [13.6  ],\n",
       "       [13.6  ],\n",
       "       [13.6  ],\n",
       "       [ 7.   ],\n",
       "       [13.6  ],\n",
       "       [ 5.97 ],\n",
       "       [ 5.8  ],\n",
       "       [ 7.7  ],\n",
       "       [ 7.   ],\n",
       "       [ 8.7  ],\n",
       "       [ 7.   ],\n",
       "       [ 9.4  ],\n",
       "       [ 5.8  ],\n",
       "       [10.   ],\n",
       "       [10.   ],\n",
       "       [10.   ],\n",
       "       [10.   ],\n",
       "       [ 7.5  ],\n",
       "       [ 6.8  ],\n",
       "       [13.6  ],\n",
       "       [13.6  ],\n",
       "       [13.6  ],\n",
       "       [ 8.4  ],\n",
       "       [13.6  ],\n",
       "       [ 5.9  ],\n",
       "       [ 7.6  ],\n",
       "       [14.   ],\n",
       "       [11.8  ],\n",
       "       [ 5.9  ],\n",
       "       [ 8.5  ],\n",
       "       [ 7.9  ],\n",
       "       [ 7.5  ],\n",
       "       [13.6  ],\n",
       "       [13.6  ],\n",
       "       [ 6.4  ],\n",
       "       [ 6.1  ],\n",
       "       [ 8.4  ],\n",
       "       [ 9.9  ],\n",
       "       [ 6.8  ],\n",
       "       [13.09 ],\n",
       "       [11.6  ],\n",
       "       [ 5.9  ],\n",
       "       [11.   ],\n",
       "       [12.5  ],\n",
       "       [ 5.9  ]])"
      ]
     },
     "execution_count": 122,
     "metadata": {},
     "output_type": "execute_result"
    }
   ],
   "source": [
    "X"
   ]
  },
  {
   "cell_type": "code",
   "execution_count": 123,
   "id": "700e5978",
   "metadata": {},
   "outputs": [
    {
     "data": {
      "text/plain": [
       "array([ 27000,  43000,   6900,   5200,  42450,   2071,  18796,  33429,\n",
       "        20273,  42367,   2135,  51000,  15000,  26000,  77427,  43000,\n",
       "        41678,  43000,  35500,  41442,  25000,   2400,  50000,  45280,\n",
       "        56879,  20000,  55138,  16200,  44542,  45000,  51439,  54200,\n",
       "        39000,  45000,  45000,  49998,  48767, 127000,  10079,  62000,\n",
       "        24524,  46706,  58000,  45780,  50000,  15000,  64532,  65000,\n",
       "        25870,  37000, 104707,  40000,  15000, 135000,  90000,  70000,\n",
       "        40534,  50000,  39485,  41000,  40001,  40588,  78000,  47000,\n",
       "         6000,  45000,  11000,  59000,  88000,  12000,  71000,  45000,\n",
       "        56001,  43000,  83000,  36000,  72000, 135154,  80000,  89000,\n",
       "        23000,  40000,  15000,  38000, 197176, 142000,  78000,  56000,\n",
       "        47000,  40000,  62000,  58242,  75000,  40000,  89000,  72000,\n",
       "        29000,   8700,  45000,  50024,   3000,   1400,   4000,   1200,\n",
       "         4100,  21700,  16500,  15000,  18000,  11000,   6000,   8700,\n",
       "         7000,  35000,  17000,  17500,  33000,  14000,  26000,   5400,\n",
       "         5700,   6900,   6000,  46500,  11500,  40000,   1300,   7000,\n",
       "         3000,   5000,  11000,  18000,   3500,    500,  11800,   5000,\n",
       "        23500,  16000,  15000,  16600,  32000,  20000,  29000,  25000,\n",
       "        25000,  19000,  15000,  58000,  45000,  24000,   6000,  31000,\n",
       "        13000,  45000,   8000,   4300,  15000,  23000,   8600,   4000,\n",
       "        24000,  23000,  14500,  27000,  14000,    500,   1000,  42000,\n",
       "        12000,  14000,   5500,   6700,  13700,   1300,  38600,  75000,\n",
       "        30000,  24000,  19000, 213000,  60000,  50000,  30000,  21000,\n",
       "        26000,   1900,  22000,  32000,  18000,  55000,  60000,  25000,\n",
       "        49000,  24000,  50000,  35000, 500000,  33000,  35000,  53000,\n",
       "        92233,  58000,  28200,  53460,  28282,   3493,  12479,  34797,\n",
       "         3435,  21125,  35775,  43535,  22671,  31604,  20114,  36100,\n",
       "        12500,  15000,  45078,  36000,  38488,  32000,  77632,  61381,\n",
       "        36198,  22517,  24678,  57000,  60000,  52132,  45000,  15001,\n",
       "        12900,  53000,   4492,  15141,  11849,  68000,  60241,  23709,\n",
       "        32322,  35866,  34000,   7000,  49000,  71000,  35000,  36000,\n",
       "        30000,  17000,  35934,  56701,  31427,  48000,  54242,  53675,\n",
       "        49562,  40324,  25000,  36054,  29223,   5600,  40023,  16002,\n",
       "        40026,  21200,  35000,  19434,  19000,  18828,  69341,  69562,\n",
       "        27600,  61203,  16500,  30753,  24800,  21780,   4000,  40126,\n",
       "        14465,  50456,  63000,   9010,   9800,  15059,  28569,  44000,\n",
       "        34000,  10980,  19000,  31427,  12000,  38000,  33019,  60076,\n",
       "        33988,  60000,  87934,   9000,   5464], dtype=int64)"
      ]
     },
     "execution_count": 123,
     "metadata": {},
     "output_type": "execute_result"
    }
   ],
   "source": [
    "Y"
   ]
  },
  {
   "cell_type": "markdown",
   "id": "20e33f03",
   "metadata": {},
   "source": [
    "Splitting data into train and test set"
   ]
  },
  {
   "cell_type": "code",
   "execution_count": 138,
   "id": "33900677",
   "metadata": {},
   "outputs": [],
   "source": [
    "from sklearn.model_selection import train_test_split\n",
    "X_train, X_test,Y_train,Y_test = train_test_split(X,Y,test_size=1/4)"
   ]
  },
  {
   "cell_type": "markdown",
   "id": "ea50f4a7",
   "metadata": {},
   "source": [
    "Fitting Simple Linear Regression Model to train set"
   ]
  },
  {
   "cell_type": "code",
   "execution_count": 139,
   "id": "a61c67d7",
   "metadata": {},
   "outputs": [
    {
     "data": {
      "text/plain": [
       "LinearRegression()"
      ]
     },
     "execution_count": 139,
     "metadata": {},
     "output_type": "execute_result"
    }
   ],
   "source": [
    "from sklearn.linear_model import LinearRegression\n",
    "regressor = LinearRegression()\n",
    "regressor.fit(X_train, Y_train)"
   ]
  },
  {
   "cell_type": "markdown",
   "id": "626e0ae4",
   "metadata": {},
   "source": [
    "Parameters in Linear Regression"
   ]
  },
  {
   "cell_type": "code",
   "execution_count": 140,
   "id": "05bb2b84",
   "metadata": {},
   "outputs": [
    {
     "data": {
      "text/plain": [
       "26785.353076280597"
      ]
     },
     "execution_count": 140,
     "metadata": {},
     "output_type": "execute_result"
    }
   ],
   "source": [
    "regressor.coef_\n",
    "regressor.intercept_"
   ]
  },
  {
   "cell_type": "markdown",
   "id": "58423ccb",
   "metadata": {},
   "source": [
    "Prediction of Y_test"
   ]
  },
  {
   "cell_type": "code",
   "execution_count": 141,
   "id": "9136946f",
   "metadata": {},
   "outputs": [],
   "source": [
    "Y_test_prediction = regressor.predict(X_test)"
   ]
  },
  {
   "cell_type": "markdown",
   "id": "05b41a9c",
   "metadata": {},
   "source": [
    "Prediction of Y_train"
   ]
  },
  {
   "cell_type": "code",
   "execution_count": 142,
   "id": "2ccdbe7d",
   "metadata": {},
   "outputs": [],
   "source": [
    "Y_train_prediction = regressor.predict(X_train)"
   ]
  },
  {
   "cell_type": "code",
   "execution_count": 143,
   "id": "9754d77a",
   "metadata": {
    "scrolled": true
   },
   "outputs": [
    {
     "data": {
      "text/plain": [
       "array([33168.27532133, 31208.60621101, 34478.45409794, 27893.96588726,\n",
       "       37793.09442169, 37311.57572601, 28912.99382463, 67356.10271454,\n",
       "       27367.65475478, 27143.69257074, 31746.1154527 , 35419.0952709 ,\n",
       "       37468.34925483, 37311.57572601, 43627.30931585, 33392.23750537,\n",
       "       52350.63638408, 67053.75376609, 27725.99424924, 42014.78159078,\n",
       "       52708.97587854, 31432.56839504, 27390.05097318, 41858.00806196,\n",
       "       27714.79614003, 35755.03854695, 32776.34149926, 37871.4811861 ,\n",
       "       28577.05054857, 33392.23750537, 27666.64427047, 42171.55511961,\n",
       "       34400.06733353, 34388.86922433, 33280.25641335, 35295.91606968,\n",
       "       33168.27532133, 28465.06945656, 27423.64530079, 35172.73686846,\n",
       "       35183.93497766, 42014.78159078, 37311.57572601, 27322.86231797,\n",
       "       40760.59336018, 27759.58857684, 36426.92509906, 37311.57572601,\n",
       "       35811.02909296, 35631.85934573, 27423.64530079, 31936.48330913,\n",
       "       37311.57572601, 34422.46355193, 61062.76534311, 47625.0343009 ,\n",
       "       35721.44421935, 61062.76534311, 27625.21126642, 43459.33767782,\n",
       "       33168.27532133, 27311.66420877, 29472.89928472, 33560.20914339,\n",
       "       27849.17345046, 31746.1154527 , 34859.18981081, 30659.89886012,\n",
       "       30995.84213617, 31208.60621101, 27666.64427047, 34400.06733353,\n",
       "       27666.64427047, 36191.76480583, 61062.76534311, 27356.45664557])"
      ]
     },
     "execution_count": 143,
     "metadata": {},
     "output_type": "execute_result"
    }
   ],
   "source": [
    "Y_test_prediction"
   ]
  },
  {
   "cell_type": "code",
   "execution_count": 144,
   "id": "0284c350",
   "metadata": {},
   "outputs": [
    {
     "data": {
      "text/plain": [
       "array([ 47625.0343009 ,  34355.27489672,  33280.25641335,  30816.67238894,\n",
       "        28353.08836454,  33045.09612011,  31723.71923429,  36774.06648432,\n",
       "        27725.99424924,  33392.23750537,  42014.78159078,  27710.31689635,\n",
       "        37916.27362291,  33168.27532133,  27513.2301744 ,  31936.48330913,\n",
       "        27692.39992163,  27401.24908238,  28129.1261805 ,  31936.48330913,\n",
       "        55217.35233975,  35575.86879972,  42126.7626828 ,  33392.23750537,\n",
       "        27614.01315722,  37311.57572601,  33168.27532133,  27602.81504801,\n",
       "        34388.86922433,  27434.84340999,  27703.59803083,  27423.64530079,\n",
       "        67053.75376609,  61062.76534311,  28129.1261805 ,  27849.17345046,\n",
       "        27837.97534125,  42014.78159078,  43347.3565858 ,  27849.17345046,\n",
       "        31936.48330913,  33168.27532133,  28912.99382463,  37983.46227812,\n",
       "        27710.31689635,  37871.4811861 ,  37311.57572601,  31746.1154527 ,\n",
       "        27401.24908238,  27591.61693881,  27681.20181243,  27390.05097318,\n",
       "        34388.86922433,  27759.58857684,  34624.02951757,  33358.64317776,\n",
       "        37983.46227812,  47625.0343009 ,  34792.0011556 ,  33179.47343053,\n",
       "        37311.57572601,  38408.99042779,  37815.49064009,  47625.0343009 ,\n",
       "        34769.60493719,  27401.24908238,  27625.21126642,  50200.59941733,\n",
       "        28465.06945656,  27692.39992163,  39103.2731983 ,  37871.4811861 ,\n",
       "        37311.57572601,  27502.0320652 ,  38868.11290506,  42014.78159078,\n",
       "        42014.78159078,  42014.78159078,  27356.45664557,  29338.5219743 ,\n",
       "        37983.46227812,  27423.64530079,  42014.78159078,  40267.87655529,\n",
       "        37871.4811861 ,  34769.60493719,  39775.15975041,  29797.64445158,\n",
       "        27666.64427047,  34388.86922433,  31746.1154527 ,  42171.55511961,\n",
       "        27725.99424924,  32373.209568  ,  27367.65475478,  38868.11290506,\n",
       "        27367.65475478,  28431.47512895,  31746.1154527 ,  37311.57572601,\n",
       "        47546.64753649,  35721.44421935,  30648.70075091,  34355.27489672,\n",
       "        36785.26459352,  31242.20053861,  27681.20181243,  27356.45664557,\n",
       "        28912.99382463,  31746.1154527 ,  27849.17345046,  38408.99042779,\n",
       "        27849.17345046,  33179.47343053,  67053.75376609,  34769.60493719,\n",
       "        27625.21126642,  37311.57572601,  27961.15454247,  42014.78159078,\n",
       "        34388.86922433, 130479.84428531,  39999.12193445,  48924.01496832,\n",
       "        27893.96588726,  29439.30495712,  27893.96588726,  32261.22847598,\n",
       "        34400.06733353,  43224.17738458,  35407.8971617 ,  42014.78159078,\n",
       "        55217.35233975,  49685.48639404,  27356.45664557,  37311.57572601,\n",
       "        27423.64530079,  28465.06945656,  34847.9917016 ,  28465.06945656,\n",
       "        37311.57572601,  61062.76534311,  47625.0343009 ,  33616.1996894 ,\n",
       "        35295.91606968,  33470.62426978,  36191.76480583,  42014.78159078,\n",
       "        37311.57572601,  27759.58857684,  32261.22847598,  28431.47512895,\n",
       "        28778.61651421,  34926.37846602,  36527.70808188,  38868.11290506,\n",
       "        28745.0221866 ,  40782.98957858,  35295.91606968,  27356.45664557,\n",
       "        41858.00806196,  35407.8971617 ,  28431.47512895,  43347.3565858 ,\n",
       "        49685.48639404,  42014.78159078,  35419.0952709 ,  52294.64583807,\n",
       "        28431.47512895,  37188.39652479,  27434.84340999,  28431.47512895,\n",
       "        27356.45664557,  28095.5318529 ,  35878.21774817,  34052.92594827,\n",
       "        34568.03897156,  32485.19066002,  28431.47512895,  28196.31483571,\n",
       "        37927.47173211,  35295.91606968,  42462.70595885,  27390.05097318,\n",
       "        35183.93497766,  35855.82152977,  36303.74589784,  37311.57572601,\n",
       "        27893.96588726,  40615.01794055,  38218.62257136,  34624.02951757,\n",
       "        27725.99424924,  28823.40895102,  28431.47512895,  34400.06733353,\n",
       "        47658.62862851,  41443.67802149,  27625.21126642,  31432.56839504,\n",
       "        44803.11078204,  33952.14296546,  35598.26501813,  27434.84340999,\n",
       "        27367.65475478,  35811.02909296,  35452.6895985 ,  36740.47215672,\n",
       "        53358.46621224,  27390.05097318,  28745.0221866 ,  33481.82237898,\n",
       "        31746.1154527 ,  28778.61651421,  33168.27532133,  27961.15454247,\n",
       "        42014.78159078,  37983.46227812,  27837.97534125,  33168.27532133,\n",
       "        27849.17345046,  27692.39992163,  27770.78668604,  27725.99424924,\n",
       "        34624.02951757])"
      ]
     },
     "execution_count": 144,
     "metadata": {},
     "output_type": "execute_result"
    }
   ],
   "source": [
    "Y_train_prediction"
   ]
  },
  {
   "cell_type": "code",
   "execution_count": 145,
   "id": "747025da",
   "metadata": {},
   "outputs": [
    {
     "data": {
      "text/plain": [
       "array([ 28200,  44542,  42450,  45000,   2071,  60000,  14000,   6000,\n",
       "       500000,  35000,  57000,  26000,  43000,  71000,  70000,  14465,\n",
       "        80000,  47000,  25000,  34000,  11000,   5200,   8600,  38000,\n",
       "         5500,  50000,  53675,  48000,   1200,  60000,  16000,  56000,\n",
       "        36000,  32000,  19000,   7000,   3493,  15000,  35000,  39000,\n",
       "        44000,  35934,  36000,  50000,  45000,   3000,  33429,  61381,\n",
       "        45000,  28569,  18000,  53460,  49000,  31427, 135000,  72000,\n",
       "        62000,  40000,  92233,  23000,  20114,  21000,   7000,  47000,\n",
       "        27000,  23709,  77427,  45280,  10079,  25000,  75000,  33019,\n",
       "        15000,   4000,  40000,   4000], dtype=int64)"
      ]
     },
     "execution_count": 145,
     "metadata": {},
     "output_type": "execute_result"
    }
   ],
   "source": [
    "Y_test"
   ]
  },
  {
   "cell_type": "markdown",
   "id": "095a7abd",
   "metadata": {},
   "source": [
    "Visualization of training set"
   ]
  },
  {
   "cell_type": "code",
   "execution_count": 146,
   "id": "67ce06f5",
   "metadata": {},
   "outputs": [
    {
     "data": {
      "image/png": "[encoded data removed]",
      "text/plain": [
       "<Figure size 432x288 with 1 Axes>"
      ]
     },
     "metadata": {
      "needs_background": "light"
     },
     "output_type": "display_data"
    }
   ],
   "source": [
    "plt.scatter(X_train, Y_train,color ='blue')\n",
    "plt.plot(X_train,Y_train_prediction,color ='red')\n",
    "plt.xlabel('Years of Experience')\n",
    "plt.ylabel('Salary')\n",
    "plt.title('Salary Vs Years of Experience (Training Set)')\n",
    "plt.show()"
   ]
  },
  {
   "cell_type": "markdown",
   "id": "b58a39bf",
   "metadata": {},
   "source": [
    "Visualization of test set"
   ]
  },
  {
   "cell_type": "code",
   "execution_count": 147,
   "id": "0b473ab9",
   "metadata": {},
   "outputs": [
    {
     "data": {
      "image/png": "[encoded data removed]",
      "text/plain": [
       "<Figure size 432x288 with 1 Axes>"
      ]
     },
     "metadata": {
      "needs_background": "light"
     },
     "output_type": "display_data"
    }
   ],
   "source": [
    "plt.scatter(X_test, Y_test,color ='blue')\n",
    "plt.plot(X_test,Y_test_prediction,color ='red')\n",
    "plt.xlabel('Years of Experience')\n",
    "plt.ylabel('Salary')\n",
    "plt.title('Salary Vs Years of Experience (Test Set)')\n",
    "plt.show()"
   ]
  },
  {
   "cell_type": "markdown",
   "id": "42e729e7",
   "metadata": {},
   "source": [
    "Test performance"
   ]
  },
  {
   "cell_type": "code",
   "execution_count": 148,
   "id": "6b3b8efc",
   "metadata": {},
   "outputs": [
    {
     "data": {
      "text/plain": [
       "58970.08507126255"
      ]
     },
     "execution_count": 148,
     "metadata": {},
     "output_type": "execute_result"
    }
   ],
   "source": [
    "from sklearn.metrics import mean_squared_error\n",
    "from numpy import math\n",
    "math.sqrt(mean_squared_error(Y_test, Y_test_prediction))"
   ]
  },
  {
   "cell_type": "markdown",
   "id": "05c6de12",
   "metadata": {},
   "source": [
    "Train performance"
   ]
  },
  {
   "cell_type": "code",
   "execution_count": 149,
   "id": "5d9f7395",
   "metadata": {},
   "outputs": [
    {
     "data": {
      "text/plain": [
       "27670.624090859554"
      ]
     },
     "execution_count": 149,
     "metadata": {},
     "output_type": "execute_result"
    }
   ],
   "source": [
    "from sklearn.metrics import mean_squared_error\n",
    "from numpy import math\n",
    "math.sqrt(mean_squared_error(Y_train, Y_train_prediction))"
   ]
  },
  {
   "cell_type": "markdown",
   "id": "9ffb0e57",
   "metadata": {},
   "source": [
    "R2 score for train set"
   ]
  },
  {
   "cell_type": "code",
   "execution_count": 150,
   "id": "b0559c1f",
   "metadata": {},
   "outputs": [
    {
     "data": {
      "text/plain": [
       "0.11136997334311605"
      ]
     },
     "execution_count": 150,
     "metadata": {},
     "output_type": "execute_result"
    }
   ],
   "source": [
    "from sklearn.metrics import r2_score\n",
    "r2_score(Y_train, Y_train_prediction)"
   ]
  },
  {
   "cell_type": "markdown",
   "id": "8a71e8b6",
   "metadata": {},
   "source": [
    "R2 score for test set"
   ]
  },
  {
   "cell_type": "code",
   "execution_count": 151,
   "id": "d5f82418",
   "metadata": {},
   "outputs": [
    {
     "data": {
      "text/plain": [
       "-0.028995349842486196"
      ]
     },
     "execution_count": 151,
     "metadata": {},
     "output_type": "execute_result"
    }
   ],
   "source": [
    "from sklearn.metrics import r2_score\n",
    "r2_score(Y_test, Y_test_prediction)"
   ]
  },
  {
   "cell_type": "code",
   "execution_count": null,
   "id": "cdac790a",
   "metadata": {},
   "outputs": [],
   "source": []
  },
  {
   "cell_type": "code",
   "execution_count": null,
   "id": "acda10b9",
   "metadata": {},
   "outputs": [],
   "source": []
  },
  {
   "cell_type": "code",
   "execution_count": null,
   "id": "98735e69",
   "metadata": {},
   "outputs": [],
   "source": []
  },
  {
   "cell_type": "code",
   "execution_count": null,
   "id": "29f90811",
   "metadata": {},
   "outputs": [],
   "source": []
  },
  {
   "cell_type": "code",
   "execution_count": null,
   "id": "e33f0945",
   "metadata": {},
   "outputs": [],
   "source": []
  },
  {
   "cell_type": "code",
   "execution_count": null,
   "id": "e4af6de6",
   "metadata": {},
   "outputs": [],
   "source": []
  },
  {
   "cell_type": "code",
   "execution_count": null,
   "id": "bcbab054",
   "metadata": {},
   "outputs": [],
   "source": []
  },
  {
   "cell_type": "code",
   "execution_count": null,
   "id": "a7955886",
   "metadata": {},
   "outputs": [],
   "source": []
  },
  {
   "cell_type": "code",
   "execution_count": null,
   "id": "2f5bb2b8",
   "metadata": {},
   "outputs": [],
   "source": []
  },
  {
   "cell_type": "code",
   "execution_count": null,
   "id": "995b40df",
   "metadata": {},
   "outputs": [],
   "source": []
  },
  {
   "cell_type": "code",
   "execution_count": null,
   "id": "a30366ea",
   "metadata": {},
   "outputs": [],
   "source": []
  }
 ],
 "metadata": {
  "kernelspec": {
   "display_name": "Python 3",
   "language": "python",
   "name": "python3"
  },
  "language_info": {
   "codemirror_mode": {
    "name": "ipython",
    "version": 3
   },
   "file_extension": ".py",
   "mimetype": "text/x-python",
   "name": "python",
   "nbconvert_exporter": "python",
   "pygments_lexer": "ipython3",
   "version": "3.8.8"
  }
 },
 "nbformat": 4,
 "nbformat_minor": 5
}
