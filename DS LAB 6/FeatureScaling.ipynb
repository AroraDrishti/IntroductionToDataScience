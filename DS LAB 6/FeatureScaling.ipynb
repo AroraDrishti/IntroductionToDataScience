{
 "cells": [
  {
   "cell_type": "markdown",
   "metadata": {
    "id": "sHjd46yOMwPv"
   },
   "source": [
    "**Feature Scaling**:Technique in which values are shifted and rescaled so that they end up ranging between 0 and 1\n",
    "\n",
    "**Why**: Range/magnitude/units of all features in the data should be normalized so that \n",
    "each feature contributes approximately proportionately to the final distance.\n",
    "Having features on a similar scale can help the gradient descent converge more quickly towards the minima\n",
    "\n",
    "\n",
    "Distance based algorithms like KNN, K-means, and SVM are most affected by the range of features. \n",
    "This is because behind the scenes they are using distances between data points to determine their similarity.\n",
    "Tree-Based Algorithms on the other hand, are fairly insensitive to the scale of the features\n",
    "\n",
    "Most commanaly used feature scaling techniques are:\n",
    "1. Normalization/Min-Max Scalar\n",
    "2. Standardazation/ Standard scalar"
   ]
  },
  {
   "cell_type": "markdown",
   "metadata": {
    "id": "1ZRMkzo7MRfd"
   },
   "source": [
    "What is Normalization?\n",
    "Normalization is a scaling technique in which values are shifted and rescaled so that they end up ranging between 0 and 1. It is also known as Min-Max scaling.\n",
    "\n",
    "Here’s the formula for normalization:\n",
    "\n",
    "Normalization equation:\n",
    "\n",
    "![image.png](data:image/png;base64,iVBORw0KGgoAAAANSUhEUgAAAJYAAAAnCAYAAADtl7EyAAADvElEQVR4nO2c7YnjMBCG3xxXQNgSxFZgUoJIBSYlmK1ApASRCoRLCFuBcAnCFRiXMKSDuR8b+exs7i6+tdZyrAf8Y9eSmJHG+hreACuGiLgoCt5utwyApZRMROzfn89nBsBCCC6KYvBujXYlRmKMYQDcNM1ggJqmYaXUbIMWq12JcXBRFN1gERFfB3ZuYrUr8QjXGYCJiGMavFjtSjzIdZ/CSqmoBi9WuxIjyPOcAUQ3eCHsOp/PQfdpP0I1vDSIiF9eXgB0m+YoCGWXlBKn02kzVXu3TNJw0zS83+/Rtm0wQ0NCRKy1xul02mRZxpfLZZQvzjk+Ho8PlZVS4ng8PtT2V+1aPEop1lpH85WPgYgGS4K/I7LWzurPGLuuAchKKbbWsjGG8zznpmnYGMPGmMHJUmvN1+X1bt2iKD5dccxClmWLvaS7t88QQrCUclZ/xth1DToAYOccAx/B0y97vWztllMhBBMR36sbxUFhqZd1RNR9tbf4i0nf0d/J/9rlnBsEUp7nXdAQEQshundN03CWZfy3unP4PsA5t6jZylrrO5G32+2nDrTW+k7vUiZLsEtrPdiO+BkJ+AjIfvnbGem2rp/dJiPlqJaLlLILxtsZKs/zbv8E/A46/3e/rrW2259Nvs9MOarl0V/KrLWDcTLGsNa6CxR/2PLj26/rl+KQe6yUo0pMT8pRJYKQclSJYMSaO0vEz88/vSCiLk1hjOG3t7cvpxKuJ8mHygohguayEjPQTydkWTY4ukYGpyfaZ0isubPEsvi01Cil+HYJEkKwEAJVVX1paUpL4QqJNXeWWCix5s4SiUTieVl7An3t/gdn7Qn0tfsfmrUn0NfufxjWnkBfu//BWHsCfe3+B2XtCfS5Ra5PKViNVXz6XcQgcn26lMkSRJ6hBK5APP5H1eFfpd+pwMfUfTgcYK3Ffr/f3JYtyxJEBCkl2rZFVVXQWqOqKgBAXdcoy7Krp5RiIQTqugaA7t35fGYiQl3XXVsARgXEFIT0X2vNzjm8v79v7tWt6xpKKby+vj5VTAEIJ/IEhkqWvlyqL/r0IgRrbV8I+m2sXuQ6NaFFns457geZl1PdtieEmEWankSuE/NdIk//Wwj3yvWZXOj5D55a5LpkHhV59o/Zzjn2A+CXPP/4L9haG8ePavyDkCLXp7xuGMNut9sAgHMOeZ53/5dSoq5rCCFwOBw2l8sFxhhu2xZZlqEsy25D7JwDESHLMhhj+HK5LGYT+4j/AJDnOcqyhJTyU93dbgcAqKqq65NfdXoUSxchciwAAAAASUVORK5CYII=)\n",
    "\n",
    "Here, Xmax and Xmin are the maximum and the minimum values of the feature respectively.\n",
    "\n"
   ]
  },
  {
   "cell_type": "markdown",
   "metadata": {
    "id": "usbNE1DaMnQM"
   },
   "source": [
    "\n",
    "What is Standardization?\n",
    "Standardization is another scaling technique where the values are centered around the mean with a unit standard deviation. This means that the mean of the attribute becomes zero and the resultant distribution has a unit standard deviation.\n",
    "\n",
    "Here’s the formula for standardization:![image.png](data:image/png;base64,iVBORw0KGgoAAAANSUhEUgAAAGEAAAAlCAYAAABSz4fZAAACgUlEQVRoge2a4c2yMBDHzzfvAA0jXJygcYTGCZpnBOIEDSMQJmgcoXECwgiNExBGuLDBvV/AiGheH0FKtL/EL4JwXuld/38K8CEQEadpykIIBgBWSjERcX/cOccAwIjIaZoOjkVmxlrLAMB1XQ+SXNc1G2Ni4heE0zS9JJyIuBucyFJ0TzwTEccBCERX79kYs4oB0FpzWZaDOJRS7L0PHttb0VozAKzlTw56VP+Q9IuDP8HCeiNExEmSAMClUQejLEsWQsB2u93031VVBYgISZJsAAA2j3/+PHVd836/h6ZpZrneFIiI8zyHoig2Ukpu2/bXcXnvOcuyp85VSkGWZQ+vb4zhpmngdDpdzukXDcfjcb58GWM4z/PgU5+IBsvQXhvc1uMlkVKO+hIichfbvDdag/i5pwMQkZVSIWMbNODrfuC9nydvaxBBRMRdIx7Ri7cQK5FuBg7ubYzpVf18/Wq20XyBsiz7p5yFEKNEl2XJUsqBXbFkfMYYllJymqbsnGPnHPf2irX2fpmM/su8SClfr/3Rf5mNUQ5/fYHov7xOpw+m5Sv6L9Ow1k6vGmvzX76WlfkvH8vfRweI6CLdrbV8OBwmS+xuRfXUuYgIRVEEt0GCcS3/pZSMiGudDfwhnyFr9F8+ndF0N8bwbRlAREZEqKpqUnmI5eg/rNV/+QrW7r9EIpFIJBKJREJjre1dgsFnsjX9gI/cdzQFrTWfz2fw3gMRgVIKjDEAAJu2bb9LPIbAWjvamXGlkyJLcE+sOufevmUmlqOO/l3wbrcblJyqqkBKGSaob+NR2RFCxF0lS3L73kRrPf92xTvEbn+F956dc4CI0DQN/Pz8jMrTO/gHzgpWIfS371AAAAAASUVORK5CYII=)\n",
    "\n",
    "Note that in this case, the values are not restricted to a particular range."
   ]
  },
  {
   "cell_type": "markdown",
   "metadata": {
    "id": "lz2NQ-jCOapy"
   },
   "source": [
    "Normalize or Standardize?\n",
    "\n",
    "Normalization is good to use when you know that the distribution of your data does not follow a Gaussian distribution. This can be useful in algorithms that do not assume any distribution of the data like K-Nearest Neighbors and Neural Networks.\n",
    "\n",
    "Standardization, on the other hand, can be helpful in cases where the data follows a Gaussian distribution. However, this does not have to be necessarily true. Also, unlike normalization, standardization does not have a bounding range. So, even if you have outliers in your data, they will not be affected by standardization.\n",
    "\n",
    "However, at the end of the day, the choice of using normalization or standardization will depend on your problem and the machine learning algorithm you are using. There is no hard and fast rule to tell you when to normalize or standardize your data. You can always start by fitting your model to raw, normalized and standardized data and compare the performance for best results.\n",
    "\n",
    "It is a good practice to fit the scaler on the training data and then use it to transform the testing data. This would avoid any data leakage during the model testing process. Also, the scaling of target values is generally not required.\n",
    "\n",
    " "
   ]
  },
  {
   "cell_type": "code",
   "execution_count": 1,
   "metadata": {
    "id": "5jNoyvIWMmX3"
   },
   "outputs": [],
   "source": [
    "#Implementation\n",
    "\n",
    "import pandas as pd\n",
    "import numpy as np\n",
    "import matplotlib.pyplot as plt\n",
    "import seaborn as sns\n"
   ]
  },
  {
   "cell_type": "code",
   "execution_count": 12,
   "metadata": {
    "id": "atuQb0Rdqfx3"
   },
   "outputs": [],
   "source": [
    "data= pd.read_csv(\"income.csv\")"
   ]
  },
  {
   "cell_type": "code",
   "execution_count": 3,
   "metadata": {
    "colab": {
     "base_uri": "https://localhost:8080/"
    },
    "id": "qUsaYHdiqlWm",
    "outputId": "6e3aed29-bb42-4b49-b0e3-b5bc231e6a54"
   },
   "outputs": [
    {
     "data": {
      "text/plain": [
       "(31978, 13)"
      ]
     },
     "execution_count": 3,
     "metadata": {},
     "output_type": "execute_result"
    }
   ],
   "source": [
    "data.shape"
   ]
  },
  {
   "cell_type": "code",
   "execution_count": 4,
   "metadata": {
    "colab": {
     "base_uri": "https://localhost:8080/",
     "height": 337
    },
    "id": "zcBnMimnqnZg",
    "outputId": "fbfed8a6-fff9-4d06-9673-3804a78ba84c"
   },
   "outputs": [
    {
     "data": {
      "text/html": [
       "\n",
       "  <div id=\"df-f0e4d8e4-eda6-4cea-afb9-b2fc6c83bb17\">\n",
       "    <div class=\"colab-df-container\">\n",
       "      <div>\n",
       "<style scoped>\n",
       "    .dataframe tbody tr th:only-of-type {\n",
       "        vertical-align: middle;\n",
       "    }\n",
       "\n",
       "    .dataframe tbody tr th {\n",
       "        vertical-align: top;\n",
       "    }\n",
       "\n",
       "    .dataframe thead th {\n",
       "        text-align: right;\n",
       "    }\n",
       "</style>\n",
       "<table border=\"1\" class=\"dataframe\">\n",
       "  <thead>\n",
       "    <tr style=\"text-align: right;\">\n",
       "      <th></th>\n",
       "      <th>age</th>\n",
       "      <th>JobType</th>\n",
       "      <th>EdType</th>\n",
       "      <th>maritalstatus</th>\n",
       "      <th>occupation</th>\n",
       "      <th>relationship</th>\n",
       "      <th>race</th>\n",
       "      <th>gender</th>\n",
       "      <th>capitalgain</th>\n",
       "      <th>capitalloss</th>\n",
       "      <th>hoursperweek</th>\n",
       "      <th>nativecountry</th>\n",
       "      <th>SalStat</th>\n",
       "    </tr>\n",
       "  </thead>\n",
       "  <tbody>\n",
       "    <tr>\n",
       "      <th>0</th>\n",
       "      <td>45</td>\n",
       "      <td>Private</td>\n",
       "      <td>HS-grad</td>\n",
       "      <td>Divorced</td>\n",
       "      <td>Adm-clerical</td>\n",
       "      <td>Not-in-family</td>\n",
       "      <td>White</td>\n",
       "      <td>Female</td>\n",
       "      <td>0</td>\n",
       "      <td>0</td>\n",
       "      <td>28</td>\n",
       "      <td>United-States</td>\n",
       "      <td>less than or equal to 50,000</td>\n",
       "    </tr>\n",
       "    <tr>\n",
       "      <th>1</th>\n",
       "      <td>24</td>\n",
       "      <td>Federal-gov</td>\n",
       "      <td>HS-grad</td>\n",
       "      <td>Never-married</td>\n",
       "      <td>Armed-Forces</td>\n",
       "      <td>Own-child</td>\n",
       "      <td>White</td>\n",
       "      <td>Male</td>\n",
       "      <td>0</td>\n",
       "      <td>0</td>\n",
       "      <td>40</td>\n",
       "      <td>United-States</td>\n",
       "      <td>less than or equal to 50,000</td>\n",
       "    </tr>\n",
       "    <tr>\n",
       "      <th>2</th>\n",
       "      <td>44</td>\n",
       "      <td>Private</td>\n",
       "      <td>Some-college</td>\n",
       "      <td>Married-civ-spouse</td>\n",
       "      <td>Prof-specialty</td>\n",
       "      <td>Husband</td>\n",
       "      <td>White</td>\n",
       "      <td>Male</td>\n",
       "      <td>0</td>\n",
       "      <td>0</td>\n",
       "      <td>40</td>\n",
       "      <td>United-States</td>\n",
       "      <td>greater than 50,000</td>\n",
       "    </tr>\n",
       "    <tr>\n",
       "      <th>3</th>\n",
       "      <td>27</td>\n",
       "      <td>Private</td>\n",
       "      <td>9th</td>\n",
       "      <td>Never-married</td>\n",
       "      <td>Craft-repair</td>\n",
       "      <td>Other-relative</td>\n",
       "      <td>White</td>\n",
       "      <td>Male</td>\n",
       "      <td>0</td>\n",
       "      <td>0</td>\n",
       "      <td>40</td>\n",
       "      <td>Mexico</td>\n",
       "      <td>less than or equal to 50,000</td>\n",
       "    </tr>\n",
       "    <tr>\n",
       "      <th>4</th>\n",
       "      <td>20</td>\n",
       "      <td>Private</td>\n",
       "      <td>Some-college</td>\n",
       "      <td>Never-married</td>\n",
       "      <td>Sales</td>\n",
       "      <td>Not-in-family</td>\n",
       "      <td>White</td>\n",
       "      <td>Male</td>\n",
       "      <td>0</td>\n",
       "      <td>0</td>\n",
       "      <td>35</td>\n",
       "      <td>United-States</td>\n",
       "      <td>less than or equal to 50,000</td>\n",
       "    </tr>\n",
       "  </tbody>\n",
       "</table>\n",
       "</div>\n",
       "      <button class=\"colab-df-convert\" onclick=\"convertToInteractive('df-f0e4d8e4-eda6-4cea-afb9-b2fc6c83bb17')\"\n",
       "              title=\"Convert this dataframe to an interactive table.\"\n",
       "              style=\"display:none;\">\n",
       "        \n",
       "  <svg xmlns=\"http://www.w3.org/2000/svg\" height=\"24px\"viewBox=\"0 0 24 24\"\n",
       "       width=\"24px\">\n",
       "    <path d=\"M0 0h24v24H0V0z\" fill=\"none\"/>\n",
       "    <path d=\"M18.56 5.44l.94 2.06.94-2.06 2.06-.94-2.06-.94-.94-2.06-.94 2.06-2.06.94zm-11 1L8.5 8.5l.94-2.06 2.06-.94-2.06-.94L8.5 2.5l-.94 2.06-2.06.94zm10 10l.94 2.06.94-2.06 2.06-.94-2.06-.94-.94-2.06-.94 2.06-2.06.94z\"/><path d=\"M17.41 7.96l-1.37-1.37c-.4-.4-.92-.59-1.43-.59-.52 0-1.04.2-1.43.59L10.3 9.45l-7.72 7.72c-.78.78-.78 2.05 0 2.83L4 21.41c.39.39.9.59 1.41.59.51 0 1.02-.2 1.41-.59l7.78-7.78 2.81-2.81c.8-.78.8-2.07 0-2.86zM5.41 20L4 18.59l7.72-7.72 1.47 1.35L5.41 20z\"/>\n",
       "  </svg>\n",
       "      </button>\n",
       "      \n",
       "  <style>\n",
       "    .colab-df-container {\n",
       "      display:flex;\n",
       "      flex-wrap:wrap;\n",
       "      gap: 12px;\n",
       "    }\n",
       "\n",
       "    .colab-df-convert {\n",
       "      background-color: #E8F0FE;\n",
       "      border: none;\n",
       "      border-radius: 50%;\n",
       "      cursor: pointer;\n",
       "      display: none;\n",
       "      fill: #1967D2;\n",
       "      height: 32px;\n",
       "      padding: 0 0 0 0;\n",
       "      width: 32px;\n",
       "    }\n",
       "\n",
       "    .colab-df-convert:hover {\n",
       "      background-color: #E2EBFA;\n",
       "      box-shadow: 0px 1px 2px rgba(60, 64, 67, 0.3), 0px 1px 3px 1px rgba(60, 64, 67, 0.15);\n",
       "      fill: #174EA6;\n",
       "    }\n",
       "\n",
       "    [theme=dark] .colab-df-convert {\n",
       "      background-color: #3B4455;\n",
       "      fill: #D2E3FC;\n",
       "    }\n",
       "\n",
       "    [theme=dark] .colab-df-convert:hover {\n",
       "      background-color: #434B5C;\n",
       "      box-shadow: 0px 1px 3px 1px rgba(0, 0, 0, 0.15);\n",
       "      filter: drop-shadow(0px 1px 2px rgba(0, 0, 0, 0.3));\n",
       "      fill: #FFFFFF;\n",
       "    }\n",
       "  </style>\n",
       "\n",
       "      <script>\n",
       "        const buttonEl =\n",
       "          document.querySelector('#df-f0e4d8e4-eda6-4cea-afb9-b2fc6c83bb17 button.colab-df-convert');\n",
       "        buttonEl.style.display =\n",
       "          google.colab.kernel.accessAllowed ? 'block' : 'none';\n",
       "\n",
       "        async function convertToInteractive(key) {\n",
       "          const element = document.querySelector('#df-f0e4d8e4-eda6-4cea-afb9-b2fc6c83bb17');\n",
       "          const dataTable =\n",
       "            await google.colab.kernel.invokeFunction('convertToInteractive',\n",
       "                                                     [key], {});\n",
       "          if (!dataTable) return;\n",
       "\n",
       "          const docLinkHtml = 'Like what you see? Visit the ' +\n",
       "            '<a target=\"_blank\" href=https://colab.research.google.com/notebooks/data_table.ipynb>data table notebook</a>'\n",
       "            + ' to learn more about interactive tables.';\n",
       "          element.innerHTML = '';\n",
       "          dataTable['output_type'] = 'display_data';\n",
       "          await google.colab.output.renderOutput(dataTable, element);\n",
       "          const docLink = document.createElement('div');\n",
       "          docLink.innerHTML = docLinkHtml;\n",
       "          element.appendChild(docLink);\n",
       "        }\n",
       "      </script>\n",
       "    </div>\n",
       "  </div>\n",
       "  "
      ],
      "text/plain": [
       "   age       JobType  ...   nativecountry                        SalStat\n",
       "0   45       Private  ...   United-States   less than or equal to 50,000\n",
       "1   24   Federal-gov  ...   United-States   less than or equal to 50,000\n",
       "2   44       Private  ...   United-States            greater than 50,000\n",
       "3   27       Private  ...          Mexico   less than or equal to 50,000\n",
       "4   20       Private  ...   United-States   less than or equal to 50,000\n",
       "\n",
       "[5 rows x 13 columns]"
      ]
     },
     "execution_count": 4,
     "metadata": {},
     "output_type": "execute_result"
    }
   ],
   "source": [
    "data.head()"
   ]
  },
  {
   "cell_type": "code",
   "execution_count": 5,
   "metadata": {
    "colab": {
     "base_uri": "https://localhost:8080/"
    },
    "id": "zquhzGd_qpVu",
    "outputId": "8ff0de4d-bc53-4c29-8b4a-c42bb534b24a"
   },
   "outputs": [
    {
     "name": "stdout",
     "output_type": "stream",
     "text": [
      "<class 'pandas.core.frame.DataFrame'>\n",
      "RangeIndex: 31978 entries, 0 to 31977\n",
      "Data columns (total 13 columns):\n",
      " #   Column         Non-Null Count  Dtype \n",
      "---  ------         --------------  ----- \n",
      " 0   age            31978 non-null  int64 \n",
      " 1   JobType        31978 non-null  object\n",
      " 2   EdType         31978 non-null  object\n",
      " 3   maritalstatus  31978 non-null  object\n",
      " 4   occupation     31978 non-null  object\n",
      " 5   relationship   31978 non-null  object\n",
      " 6   race           31978 non-null  object\n",
      " 7   gender         31978 non-null  object\n",
      " 8   capitalgain    31978 non-null  int64 \n",
      " 9   capitalloss    31978 non-null  int64 \n",
      " 10  hoursperweek   31978 non-null  int64 \n",
      " 11  nativecountry  31978 non-null  object\n",
      " 12  SalStat        31978 non-null  object\n",
      "dtypes: int64(4), object(9)\n",
      "memory usage: 3.2+ MB\n"
     ]
    }
   ],
   "source": [
    "data.info()"
   ]
  },
  {
   "cell_type": "code",
   "execution_count": 13,
   "metadata": {
    "colab": {
     "base_uri": "https://localhost:8080/",
     "height": 424
    },
    "id": "O82nlnCprNmU",
    "outputId": "fda34860-078f-4a7b-8c6f-af3da8237037"
   },
   "outputs": [
    {
     "data": {
      "text/html": [
       "\n",
       "  <div id=\"df-ffd128d2-ddd4-47d8-acfa-d21d908adc9e\">\n",
       "    <div class=\"colab-df-container\">\n",
       "      <div>\n",
       "<style scoped>\n",
       "    .dataframe tbody tr th:only-of-type {\n",
       "        vertical-align: middle;\n",
       "    }\n",
       "\n",
       "    .dataframe tbody tr th {\n",
       "        vertical-align: top;\n",
       "    }\n",
       "\n",
       "    .dataframe thead th {\n",
       "        text-align: right;\n",
       "    }\n",
       "</style>\n",
       "<table border=\"1\" class=\"dataframe\">\n",
       "  <thead>\n",
       "    <tr style=\"text-align: right;\">\n",
       "      <th></th>\n",
       "      <th>age</th>\n",
       "      <th>capitalgain</th>\n",
       "      <th>capitalloss</th>\n",
       "      <th>hoursperweek</th>\n",
       "    </tr>\n",
       "  </thead>\n",
       "  <tbody>\n",
       "    <tr>\n",
       "      <th>0</th>\n",
       "      <td>45</td>\n",
       "      <td>0</td>\n",
       "      <td>0</td>\n",
       "      <td>28</td>\n",
       "    </tr>\n",
       "    <tr>\n",
       "      <th>1</th>\n",
       "      <td>24</td>\n",
       "      <td>0</td>\n",
       "      <td>0</td>\n",
       "      <td>40</td>\n",
       "    </tr>\n",
       "    <tr>\n",
       "      <th>2</th>\n",
       "      <td>44</td>\n",
       "      <td>0</td>\n",
       "      <td>0</td>\n",
       "      <td>40</td>\n",
       "    </tr>\n",
       "    <tr>\n",
       "      <th>3</th>\n",
       "      <td>27</td>\n",
       "      <td>0</td>\n",
       "      <td>0</td>\n",
       "      <td>40</td>\n",
       "    </tr>\n",
       "    <tr>\n",
       "      <th>4</th>\n",
       "      <td>20</td>\n",
       "      <td>0</td>\n",
       "      <td>0</td>\n",
       "      <td>35</td>\n",
       "    </tr>\n",
       "    <tr>\n",
       "      <th>...</th>\n",
       "      <td>...</td>\n",
       "      <td>...</td>\n",
       "      <td>...</td>\n",
       "      <td>...</td>\n",
       "    </tr>\n",
       "    <tr>\n",
       "      <th>31973</th>\n",
       "      <td>34</td>\n",
       "      <td>594</td>\n",
       "      <td>0</td>\n",
       "      <td>60</td>\n",
       "    </tr>\n",
       "    <tr>\n",
       "      <th>31974</th>\n",
       "      <td>34</td>\n",
       "      <td>0</td>\n",
       "      <td>0</td>\n",
       "      <td>40</td>\n",
       "    </tr>\n",
       "    <tr>\n",
       "      <th>31975</th>\n",
       "      <td>23</td>\n",
       "      <td>0</td>\n",
       "      <td>0</td>\n",
       "      <td>40</td>\n",
       "    </tr>\n",
       "    <tr>\n",
       "      <th>31976</th>\n",
       "      <td>42</td>\n",
       "      <td>0</td>\n",
       "      <td>0</td>\n",
       "      <td>40</td>\n",
       "    </tr>\n",
       "    <tr>\n",
       "      <th>31977</th>\n",
       "      <td>29</td>\n",
       "      <td>0</td>\n",
       "      <td>0</td>\n",
       "      <td>40</td>\n",
       "    </tr>\n",
       "  </tbody>\n",
       "</table>\n",
       "<p>31978 rows × 4 columns</p>\n",
       "</div>\n",
       "      <button class=\"colab-df-convert\" onclick=\"convertToInteractive('df-ffd128d2-ddd4-47d8-acfa-d21d908adc9e')\"\n",
       "              title=\"Convert this dataframe to an interactive table.\"\n",
       "              style=\"display:none;\">\n",
       "        \n",
       "  <svg xmlns=\"http://www.w3.org/2000/svg\" height=\"24px\"viewBox=\"0 0 24 24\"\n",
       "       width=\"24px\">\n",
       "    <path d=\"M0 0h24v24H0V0z\" fill=\"none\"/>\n",
       "    <path d=\"M18.56 5.44l.94 2.06.94-2.06 2.06-.94-2.06-.94-.94-2.06-.94 2.06-2.06.94zm-11 1L8.5 8.5l.94-2.06 2.06-.94-2.06-.94L8.5 2.5l-.94 2.06-2.06.94zm10 10l.94 2.06.94-2.06 2.06-.94-2.06-.94-.94-2.06-.94 2.06-2.06.94z\"/><path d=\"M17.41 7.96l-1.37-1.37c-.4-.4-.92-.59-1.43-.59-.52 0-1.04.2-1.43.59L10.3 9.45l-7.72 7.72c-.78.78-.78 2.05 0 2.83L4 21.41c.39.39.9.59 1.41.59.51 0 1.02-.2 1.41-.59l7.78-7.78 2.81-2.81c.8-.78.8-2.07 0-2.86zM5.41 20L4 18.59l7.72-7.72 1.47 1.35L5.41 20z\"/>\n",
       "  </svg>\n",
       "      </button>\n",
       "      \n",
       "  <style>\n",
       "    .colab-df-container {\n",
       "      display:flex;\n",
       "      flex-wrap:wrap;\n",
       "      gap: 12px;\n",
       "    }\n",
       "\n",
       "    .colab-df-convert {\n",
       "      background-color: #E8F0FE;\n",
       "      border: none;\n",
       "      border-radius: 50%;\n",
       "      cursor: pointer;\n",
       "      display: none;\n",
       "      fill: #1967D2;\n",
       "      height: 32px;\n",
       "      padding: 0 0 0 0;\n",
       "      width: 32px;\n",
       "    }\n",
       "\n",
       "    .colab-df-convert:hover {\n",
       "      background-color: #E2EBFA;\n",
       "      box-shadow: 0px 1px 2px rgba(60, 64, 67, 0.3), 0px 1px 3px 1px rgba(60, 64, 67, 0.15);\n",
       "      fill: #174EA6;\n",
       "    }\n",
       "\n",
       "    [theme=dark] .colab-df-convert {\n",
       "      background-color: #3B4455;\n",
       "      fill: #D2E3FC;\n",
       "    }\n",
       "\n",
       "    [theme=dark] .colab-df-convert:hover {\n",
       "      background-color: #434B5C;\n",
       "      box-shadow: 0px 1px 3px 1px rgba(0, 0, 0, 0.15);\n",
       "      filter: drop-shadow(0px 1px 2px rgba(0, 0, 0, 0.3));\n",
       "      fill: #FFFFFF;\n",
       "    }\n",
       "  </style>\n",
       "\n",
       "      <script>\n",
       "        const buttonEl =\n",
       "          document.querySelector('#df-ffd128d2-ddd4-47d8-acfa-d21d908adc9e button.colab-df-convert');\n",
       "        buttonEl.style.display =\n",
       "          google.colab.kernel.accessAllowed ? 'block' : 'none';\n",
       "\n",
       "        async function convertToInteractive(key) {\n",
       "          const element = document.querySelector('#df-ffd128d2-ddd4-47d8-acfa-d21d908adc9e');\n",
       "          const dataTable =\n",
       "            await google.colab.kernel.invokeFunction('convertToInteractive',\n",
       "                                                     [key], {});\n",
       "          if (!dataTable) return;\n",
       "\n",
       "          const docLinkHtml = 'Like what you see? Visit the ' +\n",
       "            '<a target=\"_blank\" href=https://colab.research.google.com/notebooks/data_table.ipynb>data table notebook</a>'\n",
       "            + ' to learn more about interactive tables.';\n",
       "          element.innerHTML = '';\n",
       "          dataTable['output_type'] = 'display_data';\n",
       "          await google.colab.output.renderOutput(dataTable, element);\n",
       "          const docLink = document.createElement('div');\n",
       "          docLink.innerHTML = docLinkHtml;\n",
       "          element.appendChild(docLink);\n",
       "        }\n",
       "      </script>\n",
       "    </div>\n",
       "  </div>\n",
       "  "
      ],
      "text/plain": [
       "       age  capitalgain  capitalloss  hoursperweek\n",
       "0       45            0            0            28\n",
       "1       24            0            0            40\n",
       "2       44            0            0            40\n",
       "3       27            0            0            40\n",
       "4       20            0            0            35\n",
       "...    ...          ...          ...           ...\n",
       "31973   34          594            0            60\n",
       "31974   34            0            0            40\n",
       "31975   23            0            0            40\n",
       "31976   42            0            0            40\n",
       "31977   29            0            0            40\n",
       "\n",
       "[31978 rows x 4 columns]"
      ]
     },
     "execution_count": 13,
     "metadata": {},
     "output_type": "execute_result"
    }
   ],
   "source": [
    "# filter the numeric variables from the data\n",
    "data_num = data.select_dtypes(include = np.number)\n",
    "data_num"
   ]
  },
  {
   "cell_type": "code",
   "execution_count": 9,
   "metadata": {
    "id": "2b1ERKh_rVwo"
   },
   "outputs": [],
   "source": [
    "# data normalization with sklearn\n",
    "from sklearn.preprocessing import MinMaxScaler\n",
    "\n",
    "# fit scaler on training data\n",
    "norm = MinMaxScaler().fit(data_num)\n",
    "\n",
    "# transform training data\n",
    "data_num_norm = norm.transform(data_num)\n",
    "\n"
   ]
  },
  {
   "cell_type": "code",
   "execution_count": 11,
   "metadata": {
    "colab": {
     "base_uri": "https://localhost:8080/"
    },
    "id": "a0dTlE8krqy9",
    "outputId": "db35ef50-269e-4586-95e0-98b187864dd2"
   },
   "outputs": [
    {
     "data": {
      "text/plain": [
       "array([[0.38356164, 0.        , 0.        , 0.2755102 ],\n",
       "       [0.09589041, 0.        , 0.        , 0.39795918],\n",
       "       [0.36986301, 0.        , 0.        , 0.39795918],\n",
       "       ...,\n",
       "       [0.08219178, 0.        , 0.        , 0.39795918],\n",
       "       [0.34246575, 0.        , 0.        , 0.39795918],\n",
       "       [0.16438356, 0.        , 0.        , 0.39795918]])"
      ]
     },
     "execution_count": 11,
     "metadata": {},
     "output_type": "execute_result"
    }
   ],
   "source": [
    "data_num_norm"
   ]
  },
  {
   "cell_type": "code",
   "execution_count": 16,
   "metadata": {
    "colab": {
     "base_uri": "https://localhost:8080/"
    },
    "id": "lnn3-cExr1nv",
    "outputId": "79b83cd0-db84-4886-954e-eb49f8788a72"
   },
   "outputs": [
    {
     "data": {
      "text/plain": [
       "array([[ 0.4699925 , -0.14583315, -0.21599088, -1.00589366],\n",
       "       [-1.06713224, -0.14583315, -0.21599088, -0.03384744],\n",
       "       [ 0.39679608, -0.14583315, -0.21599088, -0.03384744],\n",
       "       ...,\n",
       "       [-1.14032866, -0.14583315, -0.21599088, -0.03384744],\n",
       "       [ 0.25040325, -0.14583315, -0.21599088, -0.03384744],\n",
       "       [-0.70115016, -0.14583315, -0.21599088, -0.03384744]])"
      ]
     },
     "execution_count": 16,
     "metadata": {},
     "output_type": "execute_result"
    }
   ],
   "source": [
    "# data standardization with  sklearn\n",
    "from sklearn.preprocessing import StandardScaler\n",
    "\n",
    "# fit on data column\n",
    "scale = StandardScaler().fit(data_num)\n",
    "    \n",
    "# transform the data column\n",
    "data_num_scale = scale.transform(data_num)\n",
    "\n",
    "data_num_scale\n"
   ]
  },
  {
   "cell_type": "code",
   "execution_count": null,
   "metadata": {
    "id": "bIGPqhCOsv73"
   },
   "outputs": [],
   "source": [
    "# Assignment \n",
    "#Compare unscaled, normalized and standardized data using visualization"
   ]
  },
  {
   "cell_type": "markdown",
   "metadata": {
    "id": "HPA6-adgs6YW"
   },
   "source": [
    "Question : Normalize the following group of data: 100, 350, 40, 60, 7000 \n",
    "\n",
    " (a) min-max normalization by setting min = 0 and max = 1\n",
    "  (b) z-score   normalization\t                                                                                            \n"
   ]
  }
 ],
 "metadata": {
  "colab": {
   "collapsed_sections": [],
   "name": "FeatureScaling.ipynb",
   "provenance": []
  },
  "kernelspec": {
   "display_name": "Python 3",
   "language": "python",
   "name": "python3"
  },
  "language_info": {
   "codemirror_mode": {
    "name": "ipython",
    "version": 3
   },
   "file_extension": ".py",
   "mimetype": "text/x-python",
   "name": "python",
   "nbconvert_exporter": "python",
   "pygments_lexer": "ipython3",
   "version": "3.8.8"
  }
 },
 "nbformat": 4,
 "nbformat_minor": 1
}
